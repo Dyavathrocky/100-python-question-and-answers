{
 "cells": [
  {
   "cell_type": "markdown",
   "metadata": {},
   "source": [
    "python Assignment"
   ]
  },
  {
   "cell_type": "markdown",
   "metadata": {},
   "source": [
    "1. Write a program which will find all such numbers which are divisible by 8 but are not a multiple of 5, between 4000 and 5300 (both included). The numbers obtained should be printed in a comma-separated sequence on a single line."
   ]
  },
  {
   "cell_type": "code",
   "execution_count": null,
   "metadata": {},
   "outputs": [],
   "source": [
    "a = [] \n",
    "for i in range(4000,5301,1):\n",
    "    #print(i)\n",
    "    if i%8==0 and i%5!=0:\n",
    "        #print(i)\n",
    "        a.append(i)\n",
    "print(*a,sep = \",\")"
   ]
  },
  {
   "cell_type": "markdown",
   "metadata": {},
   "source": [
    "2. Write a program which can compute the factorial of a given numbers. The results should be printed in a comma-separated sequence on a single line.\n",
    "Hints: In case of input data being supplied to the question, it should be assumed to be a console input."
   ]
  },
  {
   "cell_type": "code",
   "execution_count": null,
   "metadata": {
    "scrolled": true
   },
   "outputs": [],
   "source": [
    "def fact(x):\n",
    "    if x < 0 :\n",
    "        print(\"negative number so factorial is possible\")\n",
    "    else:\n",
    "        fact = 1\n",
    "        for i in range(1,x+1,1):\n",
    "            fact = fact*i \n",
    "        #print(\"factorial of number  is\",fact)\n",
    "        return fact\n",
    "            \n",
    "x = input(\"number factorial separated by comma\").split(\",\")\n",
    "print(x)\n",
    "x = [int(i) for i in x]\n",
    "a = []\n",
    "for i in x:\n",
    "    f=fact(i)\n",
    "    a.append(f)\n",
    "print(a)\n"
   ]
  },
  {
   "cell_type": "raw",
   "metadata": {},
   "source": [
    "3. With a given integral number n, write a program to generate a dictionary that contains (i, i*i) such that is an integral number between 1 and n (both included) and then the program should print the dictionary.\n",
    "Suppose the input is supplied to the program: 4\n",
    "Then, the output should be: {1: 1, 2: 4, 3: 9, 4: 16}\n",
    "Hints: In case of input data being supplied to the question, it should be assumed to be a console input. Consider use dict()"
   ]
  },
  {
   "cell_type": "code",
   "execution_count": null,
   "metadata": {},
   "outputs": [],
   "source": [
    "def di(x):\n",
    "    a =[]\n",
    "    for i in range (1,x+1):\n",
    "        n = (i,i*i)\n",
    "        a.append(n)\n",
    "    return dict(a)\n",
    "\n",
    "\n",
    "di(6)\n",
    "    "
   ]
  },
  {
   "cell_type": "raw",
   "metadata": {},
   "source": [
    "4. Write a program which accepts a sequence of comma-separated numbers from console and generate a list and a tuple which contains every number.\n",
    "Suppose the input is supplied to the program: 34, 67, 55, 33, 12, 98\n",
    "Then, the output should be:\n",
    "['34', '67', '55', '33', '12', '98']\n",
    "('34', '67', '55', '33', '12', '98')\n",
    "Hints: In case of input data being supplied to the question, it should be assumed to be a console input. tuple() method can convert list to tuple"
   ]
  },
  {
   "cell_type": "code",
   "execution_count": null,
   "metadata": {},
   "outputs": [],
   "source": [
    "x = input(\"please give inout separtaed by Comma\").split(\",\")\n",
    "a = []\n",
    "for i in x :\n",
    "    a.append(i)\n",
    "print(a)\n",
    "b = tuple(a)\n",
    "print(b)"
   ]
  },
  {
   "cell_type": "raw",
   "metadata": {},
   "source": [
    "5. Define a class which has at least two methods:\n",
    "getString: to get a string from console input\n",
    "printString: to print the string in upper case\n",
    "Also please include simple test function to test the class methods.\n",
    "Hints: Use __init__ method to construct some parameters"
   ]
  },
  {
   "cell_type": "raw",
   "metadata": {},
   "source": [
    "6. Write a program that calculates and prints the value according to the given formula:\n",
    "Q = Square root of [(2 * C * D)/H]\n",
    "Following are the fixed values of C and H: C is 50. H is 30.\n",
    "D is the variable whose values should be input to your program in a comma-separated sequence.\n",
    "Let us assume the following comma separated input sequence is given to the program: 100,150,180\n",
    "The output of the program should be: 18, 22, 24\n",
    "Hints: If the output received is in decimal form, it should be rounded off to its nearest value (for example, if the output received is 26.0, it should be printed as 26)\n",
    "In case of input data being supplied to the question, it should be assumed to be a console input."
   ]
  },
  {
   "cell_type": "code",
   "execution_count": null,
   "metadata": {},
   "outputs": [],
   "source": [
    "'''def srt(D):\n",
    "    a = []\n",
    "    C = 50\n",
    "    H = 30\n",
    "    #Q = [(2*C*D)/H]**(0.5)]\n",
    "    for i in D:\n",
    "        Q = [(2*C*D)/H]**(0.5)\n",
    "        a.append(Q)\n",
    "    return a\n",
    "\n",
    "x = input(\"Please enter value for Squreroot you want to find\").split(\",\")\n",
    "print(x)\n",
    "x = [int(i) for i in x]\n",
    "print(a)'''\n",
    "\n",
    "import math\n",
    "D = input(\"Enter the values to find the Sqrt values\").split(\",\")\n",
    "a = []\n",
    "for i in D:\n",
    "    i = int(i)\n",
    "    C = 50\n",
    "    H = 30\n",
    "    Q=round(math.sqrt((2*C*i/H)))\n",
    "    #print(Q)\n",
    "    #Q = round(Q)\n",
    "    a.append(Q)\n",
    "print(a)\n"
   ]
  },
  {
   "cell_type": "raw",
   "metadata": {},
   "source": [
    "7.Write a program which takes 2 digits, X,Y as input and generates a 2-dimensional array. The element value in the i-th row and j-th column of the array should be i*j.\n",
    "Note: i=0,1.., X-1; j=0,1,¡Y-1.\n",
    "Suppose the following inputs are given to the program: 3, 5\n",
    "Then, the output of the program should be: [[0, 0, 0, 0, 0], [0, 1, 2, 3, 4], [0, 2, 4, 6, 8]]\n",
    "Hints: In case of input data being supplied to the question, it should be assumed to be a console input in a comma-separated form."
   ]
  },
  {
   "cell_type": "code",
   "execution_count": null,
   "metadata": {
    "scrolled": true
   },
   "outputs": [],
   "source": [
    "row_num = int(input(\"Input number of rows: \"))\n",
    "col_num = int(input(\"Input number of columns: \"))\n",
    "multi_list = [[0 for col in range(col_num)] for row in range(row_num)]\n",
    "\n",
    "for row in range(row_num):\n",
    "    for col in range(col_num):\n",
    "        multi_list[row][col]= row*col\n",
    "\n",
    "print(multi_list)"
   ]
  },
  {
   "cell_type": "raw",
   "metadata": {},
   "source": [
    "8. Write a program that accepts a comma separated sequence of words as input and prints the words in a comma-separated sequence after sorting them alphabetically.\n",
    "Suppose the input is supplied to the program: without, hello, bag, world\n",
    "Then, the output should be: bag, hello, without, world\n",
    "Hints: In case of input data being supplied to the question, it should be assumed to be a console input"
   ]
  },
  {
   "cell_type": "code",
   "execution_count": null,
   "metadata": {},
   "outputs": [],
   "source": [
    "#i =['without', 'hello', 'bag', 'world']\n",
    "#sorted(i)\n",
    "d = input(\"please enter the list need to sort\").split(\",\")\n",
    "a = []\n",
    "for i in range(len(d)):\n",
    "    a.append(d[i])\n",
    "b = sorted(a)\n",
    "print(b)\n",
    "    "
   ]
  },
  {
   "cell_type": "raw",
   "metadata": {},
   "source": [
    "9.Write a program that accepts sequence of lines as input and prints the lines after making all characters in the sentence capitalized.\n",
    "Suppose the input is supplied to the program: Hello world\n",
    "Practice makes perfect\n",
    "Then, the output should be: HELLO WORLD\n",
    "PRACTICE MAKES PERFECT\n",
    "Hints: In case of input data being supplied to the question, it should be assumed to be a console input."
   ]
  },
  {
   "cell_type": "code",
   "execution_count": null,
   "metadata": {},
   "outputs": [],
   "source": [
    "d = input(\"please enter the list need to sort\").split(\",\")\n",
    "a = []\n",
    "for i in range(len(d)):\n",
    "    y=(d[i].upper())\n",
    "    a.append(y)\n",
    "print(a)"
   ]
  },
  {
   "cell_type": "raw",
   "metadata": {},
   "source": [
    "10. Write a program that accepts a sequence of whitespace separated words as input and prints the words after removing all duplicate words and sorting them alphanumerically.\n",
    "Suppose the input is supplied to the program: hello world and practice makes perfect and hello world again\n",
    "Then, the output should be: again and hello makes perfect practice world\n",
    "Hints: In case of input data being supplied to the question, it should be assumed to be a console input. We use set container to remove duplicated data automatically and then use sorted() to sort the data."
   ]
  },
  {
   "cell_type": "code",
   "execution_count": null,
   "metadata": {},
   "outputs": [],
   "source": [
    "'''d =\"hello world and practice makes perfect and hello world again\"\n",
    "a = []\n",
    "for i in range(len(d)):\n",
    "    if d[i]==\" \":\n",
    "        break\n",
    "    else:\n",
    "        .join(d[i])\n",
    "       \n",
    "print(a)'''\n",
    "\n",
    "h = input(\"Please enter sentence with space as division\").split(\" \")\n",
    "h=sorted(h)\n",
    "h=set(h)\n",
    "print(h)"
   ]
  },
  {
   "cell_type": "raw",
   "metadata": {},
   "source": [
    "12. Write a program, which will find all such numbers between 1000 and 3000 (both included) such that each digit of the number is an even number.\n",
    "The numbers obtained should be printed in a comma-separated sequence on a single line.\n",
    "Hints: In case of input data being supplied to the question, it should be assumed to be a console input."
   ]
  },
  {
   "cell_type": "code",
   "execution_count": null,
   "metadata": {},
   "outputs": [],
   "source": [
    "a  = list(range(1000,3000))\n",
    "a = [str(i) for i in a]\n",
    "a\n",
    "ans=[]\n",
    "for i in a :\n",
    "    k=0\n",
    "    for j in range(len(i)):\n",
    "        #print(i)\n",
    "        #print(type(i))\n",
    "        #print(j)\n",
    "        #print(type(j))\n",
    "        if int(i[j])%2==0:\n",
    "            #print(\"ok\")\n",
    "            k = k+1\n",
    "    if k==len(i):\n",
    "        ans.append(i)\n",
    "print(ans)\n",
    "    "
   ]
  },
  {
   "cell_type": "raw",
   "metadata": {},
   "source": [
    "13. Write a program that accepts a sentence and calculate the number of letters and digits.\n",
    "Suppose the input is supplied to the program: hello world! 123\n",
    "Then, the output should be: LETTERS 10\n",
    "DIGITS 3\n",
    "Hints: In case of input data being supplied to the question, it should be assumed to be a console input."
   ]
  },
  {
   "cell_type": "code",
   "execution_count": null,
   "metadata": {},
   "outputs": [],
   "source": [
    "se = input(\"please enter sendtece to calculate the number of digits and letters\")\n",
    "k=0\n",
    "st=0\n",
    "sp=0\n",
    "\n",
    "for i in se :\n",
    "    #print(i)\n",
    "    if i.isdigit():\n",
    "        k=k+1\n",
    "    elif i ==\" \":\n",
    "        st=st+1\n",
    "    else :\n",
    "        sp = sp+1\n",
    "        \n",
    "print(\"integers\",i)\n",
    "print(\"strings\",sp)\n",
    "print(\"spaces\",st)\n"
   ]
  },
  {
   "cell_type": "raw",
   "metadata": {},
   "source": [
    "14. Write a program that accepts a sentence and calculate the number of upper case letters and lower case letters.\n",
    "Suppose the input is supplied to the program: Hello world!\n",
    "Then, the output should be: UPPER CASE 1\n",
    "LOWER CASE 9\n",
    "Hints: In case of input data being supplied to the question, it should be assumed to be a console input."
   ]
  },
  {
   "cell_type": "code",
   "execution_count": null,
   "metadata": {},
   "outputs": [],
   "source": [
    "se = input(\"please enter sendtece to calculate the number of digits and letters\")\n",
    "up = 0\n",
    "lo = 0\n",
    "for i in se :\n",
    "    if i.isupper():\n",
    "        up= up+1\n",
    "    elif i.islower():\n",
    "        lo = lo+1\n",
    "print(\"number of upper case\",up)\n",
    "print(\"number of lowercae\",lo)\n"
   ]
  },
  {
   "cell_type": "raw",
   "metadata": {},
   "source": [
    "16. Use a list comprehension to square each odd number in a list. The list is input by a sequence of comma-separated numbers.\n",
    "Suppose the input is supplied to the program: 1,2,3,4,5,6,7,8,9\n",
    "Then, the output should be: 1, 3, 5, 7, 9\n",
    "Hints: In case of input data being supplied to the question, it should be assumed to be a console input."
   ]
  },
  {
   "cell_type": "code",
   "execution_count": null,
   "metadata": {},
   "outputs": [],
   "source": [
    "d = input(\"plase enter the number you want odd squre number\").split(\",\")\n",
    "x = 0\n",
    "ans=[]\n",
    "for i in range(len(d)):\n",
    "    if i%2==0:\n",
    "        #c=int(d[i]**2)\n",
    "        ans.append(int(d[i])**2)\n",
    "    \n",
    "print(ans)"
   ]
  },
  {
   "cell_type": "raw",
   "metadata": {},
   "source": [
    "17. Write a program that computes the net amount of a bank account based a transaction log from console input. The transaction log format is shown as following:\n",
    "D 100\n",
    "W 200\n",
    "--D means deposit while W means withdrawal.\n",
    "Suppose the input is supplied to the program:\n",
    "D 300\n",
    "D 300\n",
    "W 200\n",
    "D 100\n",
    "Then, the output should be: 500\n",
    "Hints: In case of input data being supplied to the question, it should be assumed to be a console input."
   ]
  },
  {
   "cell_type": "code",
   "execution_count": null,
   "metadata": {},
   "outputs": [],
   "source": [
    "sum = int(input(\"please enter the amount you have in bank\"))\n",
    "sum\n",
    "d=0\n",
    "w=0\n",
    "'''while :\n",
    "    print(\"please enter trascation is withdrwn(W)or Deposit press w/d\")'''\n",
    "\n",
    "for i in range(0,100):\n",
    "    n = input(\"please enter you want to deposit of withdrawn w/d\")\n",
    "    if n==\"w\":\n",
    "        w = int(input(\"enter amount how much you want to withdraw\"))\n",
    "        sum = sum-w\n",
    "        print(\"Current balance\",sum)\n",
    "        i=i+1\n",
    "    elif n==\"d\":\n",
    "        d = int(input(\"enter amount how much you want to deposit\"))\n",
    "        sum = sum+d\n",
    "        print(\"Current balance\",sum)\n",
    "        i=i+1 \n",
    "    elif n==\"c\":\n",
    "        print(\"if you want to exit press c\")\n",
    "        print(\"Current balance\",sum)\n",
    "    else :\n",
    "        print(\"please enter proper input\")\n",
    "        print(\"Current balance\",sum)\n",
    "        \n",
    "    \n",
    "    \n",
    "\n"
   ]
  },
  {
   "cell_type": "raw",
   "metadata": {},
   "source": [
    "18. A website requires the users to input username and password to register. Write a program to check the validity of password input by users.\n",
    "Following are the criteria for checking the password:\n",
    "1. At least 1 letter between [a-z]\n",
    "2. At least 1 number between [0-9]\n",
    "1. At least 1 letter between [A-Z]\n",
    "3. At least 1 character from [$#@]\n",
    "4. Minimum length of transaction password: 6\n",
    "5. Maximum length of transaction password: 12\n",
    "Your program should accept a sequence of comma separated passwords and will check them according to the above criteria. Passwords that match the criteria are to be printed, each separated by a comma.\n",
    "If the following passwords are given as input to the program: ABd1234@1,a F1#,2w3E*,2We3345\n",
    "Then, the output of the program should be: ABd1234@1\n",
    "Hints: In case of input data being supplied to the question, it should be assumed to be a console input."
   ]
  },
  {
   "cell_type": "code",
   "execution_count": 2,
   "metadata": {},
   "outputs": [
    {
     "name": "stdout",
     "output_type": "stream",
     "text": [
      "please enter password to validateABd1234@1,a F1#,2w3E*,2We3345\n",
      "ABd1234@1\n",
      "a F1#\n",
      "2w3E*\n",
      "2We3345\n",
      "0 0 0 4\n"
     ]
    }
   ],
   "source": [
    "pas = input(\"please enter password to validate\").split(\",\")\n",
    "lower=0\n",
    "number=0\n",
    "upper=0\n",
    "other=0\n",
    "\n",
    "for i in pas:\n",
    "    print(i)\n",
    "    if i.islower():\n",
    "        lower=lower+1\n",
    "    elif i.isupper():\n",
    "        upper=upper+1\n",
    "    elif i.isnumeric():\n",
    "        number=number+1\n",
    "    else:\n",
    "        other=other+1\n",
    "        \n",
    "print(lower,number,upper,other)\n",
    "    "
   ]
  },
  {
   "cell_type": "code",
   "execution_count": null,
   "metadata": {},
   "outputs": [],
   "source": [
    "pas = input(\"please enter password to validate\").split(\",\")\n",
    "\n",
    "al=0\n",
    "nu =0\n",
    "up=0\n",
    "sc=0\n",
    "spec =['$','#','@']\n",
    "for k in range(len(pas)):\n",
    "    i=pas[k]\n",
    "    print(i)\n",
    "    if i.islower():\n",
    "        print(\"low\",i)\n",
    "        al=+1\n",
    "    elif i.isnumeric():\n",
    "        nu=+1\n",
    "    elif i.isupper():\n",
    "        up=+1\n",
    "    else:\n",
    "        print(\"check spec\")\n",
    "        \n",
    "\n",
    "print(al,nu,up,sc)\n"
   ]
  },
  {
   "cell_type": "code",
   "execution_count": null,
   "metadata": {},
   "outputs": [],
   "source": [
    "while i=="
   ]
  },
  {
   "cell_type": "code",
   "execution_count": null,
   "metadata": {},
   "outputs": [],
   "source": [
    "while True:\n",
    "    n = input(\"Please enter 'hello':\")\n",
    "    if n == 'hello':\n",
    "        break"
   ]
  },
  {
   "cell_type": "code",
   "execution_count": null,
   "metadata": {},
   "outputs": [],
   "source": []
  },
  {
   "cell_type": "raw",
   "metadata": {},
   "source": [
    "19. You are required to write a program to sort the (name, age, height) tuples by ascending order where name is string, age and height are numbers. The tuples are input by console. The sort criteria is:\n",
    "1: Sort based on name;\n",
    "2: Then sort based on age;\n",
    "3: Then sort by score.\n",
    "The priority is that name > age > score.\n",
    "If the following tuples are given as input to the program:\n",
    "Tom,19,80\n",
    "John,20,90\n",
    "Jony,17,91\n",
    "Jony,17,93\n",
    "Json,21,85\n",
    "Then, the output of the program should be:\n",
    "[('John', '20', '90'), ('Jony', '17', '91'), ('Jony', '17', '93'), ('Json', '21', '85'), ('Tom', '19', '80')]\n",
    "Hints: In case of input data being supplied to the question, it should be assumed to be a console input. We use itemgetter to enable multiple sort keys."
   ]
  },
  {
   "cell_type": "code",
   "execution_count": null,
   "metadata": {},
   "outputs": [
    {
     "name": "stdout",
     "output_type": "stream",
     "text": [
      "Tom,19,80 John,20,90 Jony,17,91 Jony,17,93 Json,21,85\n"
     ]
    }
   ],
   "source": [
    "from operator import itemgetter\n",
    "\n",
    "people_info = []\n",
    "while True:\n",
    "    individual_info = input()\n",
    "\n",
    "    if individual_info == \"\":\n",
    "        break\n",
    "    else:\n",
    "        people_info.append(tuple((individual_info.split(\",\"))))\n",
    "\n",
    "people_info.sort(key =  itemgetter(0, 1, 2))       \n",
    "print(people_info)"
   ]
  },
  {
   "cell_type": "raw",
   "metadata": {},
   "source": [
    "20. Define a class with a generator which can iterate the numbers, which are divisible by 7, between a given range 0 and n.\n",
    "Hints: Consider use yield"
   ]
  },
  {
   "cell_type": "raw",
   "metadata": {},
   "source": [
    "21. A robot moves in a plane starting from the original point (0,0). The robot can move toward UP, DOWN, LEFT and RIGHT with a given steps. The trace of robot movement is shown as the following:\n",
    "UP 5\n",
    "DOWN 3\n",
    "LEFT 3\n",
    "RIGHT 2\n",
    "¡\n",
    "The numbers after the direction are steps. Please write a program to compute the distance from current position after a sequence of movement and original point. If the distance is a float, then just print the nearest integer.\n",
    "If the following tuples are given as input to the program:\n",
    "UP 5\n",
    "DOWN 3\n",
    "LEFT 3\n",
    "RIGHT 2\n",
    "Then, the output of the program should be: 2\n",
    "Hints: In case of input data being supplied to the question, it should be assumed to be a console input."
   ]
  },
  {
   "cell_type": "raw",
   "metadata": {},
   "source": [
    "22. Write a program to compute the frequency of the words from the input. The output should output after sorting the key alphanumerically.\n",
    "Suppose the input is supplied to the program:\n",
    "New to Python or choosing between Python 2 and Python 3? Read Python 2 or Python 3.\n",
    "Then, the output should be:\n",
    "2:2\n",
    "3.:1\n",
    "3?:1\n",
    "New:1\n",
    "Python:5\n",
    "Read:1\n",
    "and:1\n",
    "between:1\n",
    "choosing:1\n",
    "or:2\n",
    "to:1\n",
    "    \n",
    "Hints: In case of input data being supplied to the question, it should be assumed to be a console input."
   ]
  },
  {
   "cell_type": "code",
   "execution_count": 1,
   "metadata": {},
   "outputs": [
    {
     "name": "stdout",
     "output_type": "stream",
     "text": [
      "New to Python or choosing between Python 2 and Python 3? Read Python 2 or Python 3.\n",
      "2:2\n",
      "3.:1\n",
      "3?:1\n",
      "New:1\n",
      "Python:5\n",
      "Read:1\n",
      "and:1\n",
      "between:1\n",
      "choosing:1\n",
      "or:2\n",
      "to:1\n"
     ]
    }
   ],
   "source": [
    "ss = input().split()\n",
    "word = sorted(set(ss))     # split words are stored and sorted as a set\n",
    "\n",
    "for i in word:\n",
    "    print(\"{0}:{1}\".format(i,ss.count(i)))"
   ]
  },
  {
   "cell_type": "code",
   "execution_count": 2,
   "metadata": {},
   "outputs": [
    {
     "name": "stdout",
     "output_type": "stream",
     "text": [
      "New to Python or choosing between Python 2 and Python 3? Read Python 2 or Python 3\n",
      "2:2\n",
      "3:1\n",
      "3?:1\n",
      "New:1\n",
      "Python:5\n",
      "Read:1\n",
      "and:1\n",
      "between:1\n",
      "choosing:1\n",
      "or:2\n",
      "to:1\n"
     ]
    }
   ],
   "source": [
    "ss = input().split()\n",
    "dict = {i:ss.count(i) for i in ss}     # sets dictionary as i-> split word & ss.count(i) -> total occurrence of i in ss\n",
    "dict = sorted(dict.items())            # items() function returns both key & value of dictionary as a list\n",
    "                                       # and then sorted. The sort by default occurs in order of 1st -> 2nd key\n",
    "for i in dict:\n",
    "    print(\"%s:%d\"%(i[0],i[1]))       "
   ]
  },
  {
   "cell_type": "raw",
   "metadata": {},
   "source": [
    "23. Write a method which can calculate square value of number\n",
    "Hints: Using the ** operator"
   ]
  },
  {
   "cell_type": "code",
   "execution_count": 1,
   "metadata": {},
   "outputs": [
    {
     "name": "stdout",
     "output_type": "stream",
     "text": [
      "enter the num which you want square34\n",
      "Square of the number 1156\n"
     ]
    }
   ],
   "source": [
    "num  = int(input(\"enter the num which you want square\"))\n",
    "ans = num**2\n",
    "\n",
    "print(\"Square of the number\",ans)"
   ]
  },
  {
   "cell_type": "raw",
   "metadata": {},
   "source": [
    "24. Python has many built-in functions, and if you do not know how to use it, you can read document online or find some books. But Python has a built-in document function for every\n",
    "built-in functions. Please write a program to print some Python built-in functions documents, such as abs(), int(), raw_input() And add document for your own function\n",
    "Hints: The built-in document method is __doc__"
   ]
  },
  {
   "cell_type": "code",
   "execution_count": null,
   "metadata": {},
   "outputs": [],
   "source": []
  },
  {
   "cell_type": "raw",
   "metadata": {},
   "source": [
    "25. Define a class, which have a class parameter and have a same instance parameter.\n",
    "Hints: Define a instance parameter, need add it in __init__ method\n",
    "You can init a object with construct parameter or set the value later"
   ]
  },
  {
   "cell_type": "code",
   "execution_count": null,
   "metadata": {},
   "outputs": [],
   "source": []
  },
  {
   "cell_type": "raw",
   "metadata": {},
   "source": [
    "26. Define a function which can compute the sum of two numbers.\n",
    "Hints: Define a function with two numbers as arguments. You can compute the sum in the function and return the value."
   ]
  },
  {
   "cell_type": "code",
   "execution_count": 3,
   "metadata": {},
   "outputs": [
    {
     "name": "stdout",
     "output_type": "stream",
     "text": [
      "enter intiger5\n",
      "enter intiger5\n",
      "sum of two numbers 10\n"
     ]
    },
    {
     "data": {
      "text/plain": [
       "10"
      ]
     },
     "execution_count": 3,
     "metadata": {},
     "output_type": "execute_result"
    }
   ],
   "source": [
    "def sum(x,y):\n",
    "    i =x+y\n",
    "    print(\"sum of two numbers\",i)\n",
    "    return i\n",
    "\n",
    "x = int(input(\"enter intiger\"))\n",
    "y=int(input(\"enter intiger\"))\n",
    "\n",
    "sum(x,y)\n",
    "#print(i)\n",
    "\n"
   ]
  },
  {
   "cell_type": "raw",
   "metadata": {},
   "source": [
    "27. Define a function that can convert a integer into a string and print it in console.\n",
    "Hints: Use str() to convert a number to string."
   ]
  },
  {
   "cell_type": "code",
   "execution_count": 7,
   "metadata": {},
   "outputs": [
    {
     "name": "stdout",
     "output_type": "stream",
     "text": [
      "enter intiger5\n",
      "<class 'int'>\n",
      "5\n",
      "<class 'str'>\n"
     ]
    }
   ],
   "source": [
    "def s(x):\n",
    "    i=str(x)\n",
    "    print(i)\n",
    "    print(type(i))\n",
    "    \n",
    "x = int(input(\"enter intiger\"))\n",
    "print(type(x))\n",
    "\n",
    "s(x)\n"
   ]
  },
  {
   "cell_type": "raw",
   "metadata": {},
   "source": [
    "28. Define a function that can convert a integer into a string and print it in console.\n",
    "Hints: Use str() to convert a number to string."
   ]
  },
  {
   "cell_type": "code",
   "execution_count": 8,
   "metadata": {},
   "outputs": [
    {
     "name": "stdout",
     "output_type": "stream",
     "text": [
      "enter intiger5\n",
      "<class 'int'>\n",
      "5\n",
      "<class 'str'>\n"
     ]
    }
   ],
   "source": [
    "def s(x):\n",
    "    i=str(x)\n",
    "    print(i)\n",
    "    print(type(i))\n",
    "    \n",
    "x = int(input(\"enter intiger\"))\n",
    "print(type(x))\n",
    "\n",
    "s(x)"
   ]
  },
  {
   "cell_type": "raw",
   "metadata": {},
   "source": [
    "29. Define a function that can receive two integral numbers in string form and compute their sum and\n",
    "then print it in console.\n",
    "Hints: Use int() to convert a string to integer."
   ]
  },
  {
   "cell_type": "code",
   "execution_count": 11,
   "metadata": {},
   "outputs": [
    {
     "name": "stdout",
     "output_type": "stream",
     "text": [
      "enter intiger 5\n",
      "enter intiger 5\n",
      "sum of two number  10\n"
     ]
    }
   ],
   "source": [
    "def s(x,y):\n",
    "    x=int(x)\n",
    "    y=int(y)\n",
    "    s = x+y\n",
    "    print(\"sum of two number \",s)\n",
    "    \n",
    "    \n",
    "x = input(\"enter intiger \")\n",
    "y = input(\"enter intiger \")\n",
    "\n",
    "s(x,y)\n"
   ]
  },
  {
   "cell_type": "raw",
   "metadata": {},
   "source": [
    "30. Define a function that can accept two strings as input and concatenate them and then print it in\n",
    "console.\n",
    "Hints: Use + to concatenate the strings"
   ]
  },
  {
   "cell_type": "code",
   "execution_count": 15,
   "metadata": {},
   "outputs": [
    {
     "name": "stdout",
     "output_type": "stream",
     "text": [
      "enter String hi \n",
      "enter string kjf'f\n",
      "please find concat of two strings  hi kjf'f\n"
     ]
    }
   ],
   "source": [
    "def s(x,y):\n",
    "    i = x+y\n",
    "    print(\"please find concat of two strings \",i)\n",
    "    \n",
    "x = input(\"enter String \")\n",
    "y = input(\"enter string \")\n",
    "\n",
    "s(x,y)"
   ]
  },
  {
   "cell_type": "raw",
   "metadata": {},
   "source": [
    "31. Define a function that can accept two strings as input and print the string with maximum length in\n",
    "console. If two strings have the same length, then the function should print al l strings line by line.\n",
    "Hints: Use len() function to get the length of a string"
   ]
  },
  {
   "cell_type": "code",
   "execution_count": 16,
   "metadata": {},
   "outputs": [
    {
     "name": "stdout",
     "output_type": "stream",
     "text": [
      "enter String rakesh\n",
      "enter string kavya\n",
      "rakesh\n"
     ]
    }
   ],
   "source": [
    "def s(x,y):\n",
    "    if len(x)>len(y):\n",
    "        print(x)\n",
    "    elif len(y)>len(x):\n",
    "        print(y)\n",
    "    else:\n",
    "        print(x)\n",
    "        print(y)\n",
    "        \n",
    "x = input(\"enter String \")\n",
    "y = input(\"enter string \")\n",
    "\n",
    "s(x,y)"
   ]
  },
  {
   "cell_type": "raw",
   "metadata": {},
   "source": [
    "32. Define a function that can accept an integer number as input and print the \"It is an even number\" if\n",
    "the number is even, otherwise print \"It is an odd number\".\n",
    "Hints: Use % operator to check if a number is even or odd."
   ]
  },
  {
   "cell_type": "code",
   "execution_count": 21,
   "metadata": {},
   "outputs": [
    {
     "name": "stdout",
     "output_type": "stream",
     "text": [
      "enter String 67\n",
      "the given number 67 is odd\n"
     ]
    }
   ],
   "source": [
    "def s(x):\n",
    "    #i=int(x)\n",
    "    if (x%2)==0:\n",
    "        print(\"the given number {} is even\".format(x))\n",
    "    else:\n",
    "        print(\"the given number {} is odd\".format(x))\n",
    "        \n",
    "x = int(input(\"enter String \"))\n",
    "\n",
    "s(x)\n",
    "        "
   ]
  },
  {
   "cell_type": "code",
   "execution_count": 19,
   "metadata": {},
   "outputs": [
    {
     "name": "stdout",
     "output_type": "stream",
     "text": [
      "Hello, I am 18 years old !\n"
     ]
    }
   ],
   "source": [
    "print (\"Hello, I am {} years old !\".format(18))"
   ]
  },
  {
   "cell_type": "raw",
   "metadata": {},
   "source": [
    "33. Define a function which can print a dictionary where the keys are numbers between 1 and 3 (both\n",
    "included) and the values are square of keys.\n",
    "Hints: Use dict[key]=value pattern to put entry into a dictionary.\n",
    "Use ** operator to get power of a number."
   ]
  },
  {
   "cell_type": "code",
   "execution_count": 24,
   "metadata": {},
   "outputs": [
    {
     "name": "stdout",
     "output_type": "stream",
     "text": [
      "{1: 1, 2: 4, 3: 9}\n"
     ]
    }
   ],
   "source": [
    "def printDict():\n",
    "    dict={i:i**2 for i in range(1,4)}   # Using comprehension method and\n",
    "    print(dict)\n",
    "\n",
    "printDict()"
   ]
  },
  {
   "cell_type": "raw",
   "metadata": {},
   "source": [
    "34. Define a function which can print a dictionary where the keys are numbers between 1 and 20 (both included) and the values are square of keys.\n",
    "Hints: Use dict[key]=value pattern to put entry into a dictionary.\n",
    "Use ** operator to get power of a number. Use range() for loops."
   ]
  },
  {
   "cell_type": "code",
   "execution_count": 25,
   "metadata": {},
   "outputs": [
    {
     "name": "stdout",
     "output_type": "stream",
     "text": [
      "{1: 1, 2: 4, 3: 9, 4: 16, 5: 25, 6: 36, 7: 49, 8: 64, 9: 81, 10: 100, 11: 121, 12: 144, 13: 169, 14: 196, 15: 225, 16: 256, 17: 289, 18: 324, 19: 361, 20: 400}\n"
     ]
    }
   ],
   "source": [
    "def printDict():\n",
    "    dict={i:i**2 for i in range(1,21)}   # Using comprehension method and\n",
    "    print(dict)\n",
    "\n",
    "printDict()"
   ]
  },
  {
   "cell_type": "raw",
   "metadata": {},
   "source": [
    "35. Define a function which can generate a dictionary where the keys are numbers between 1 and 20 (both included) and the values are square of keys. The function should just print the values only.\n",
    "Hints: Use dict[key]=value pattern to put entry into a dictionary. Use ** operator to get power of a number. Use\n",
    "range() for loops. Use keys() to iterate keys in the dictionary. Also we can use item() to get key/value pairs."
   ]
  },
  {
   "cell_type": "code",
   "execution_count": 27,
   "metadata": {},
   "outputs": [
    {
     "name": "stdout",
     "output_type": "stream",
     "text": [
      "{1: 1, 2: 4, 3: 9}\n"
     ]
    }
   ],
   "source": [
    "def printDict():\n",
    "    dict={i:i**2 for i in range(1,4)}   # Using comprehension method and\n",
    "    print(dict)\n",
    "\n",
    "printDict()"
   ]
  },
  {
   "cell_type": "raw",
   "metadata": {},
   "source": [
    "36. Define a function which can generate a dictionary where the keys are numbers between 1 and 20 (both included) and the values are square of keys. The function should just print the keys only.\n",
    "Hints: Use dict[key]=value pattern to put entry into a dictionary. Use ** operator to get power of a number. Use range() for loops. Use keys() to iterate keys in the dictionary. Also we can use item() to get key/value pairs."
   ]
  },
  {
   "cell_type": "code",
   "execution_count": 26,
   "metadata": {},
   "outputs": [
    {
     "name": "stdout",
     "output_type": "stream",
     "text": [
      "{1: 1, 2: 4, 3: 9}\n"
     ]
    }
   ],
   "source": [
    "def printDict():\n",
    "    dict={i:i**2 for i in range(1,4)}   # Using comprehension method and\n",
    "    print(dict)\n",
    "\n",
    "printDict()"
   ]
  },
  {
   "cell_type": "raw",
   "metadata": {},
   "source": [
    "37. Define a function which can generate and print a list where the values are square of numbers between 1 and 20 (both included).\n",
    "Hints: Use ** operator to get power of a number. Use range() for loops. Use list.append() to add values into a list."
   ]
  },
  {
   "cell_type": "code",
   "execution_count": 30,
   "metadata": {},
   "outputs": [
    {
     "name": "stdout",
     "output_type": "stream",
     "text": [
      "give input intiger to create list20\n",
      "[0, 1, 4, 9, 16, 25, 36, 49, 64, 81, 100, 121, 144, 169, 196, 225, 256, 289, 324, 361, 400]\n"
     ]
    }
   ],
   "source": [
    "def s(x):\n",
    "    a = []\n",
    "    for i in range(0,(x+1)):\n",
    "        a.append(int(i**2))\n",
    "    print(a)\n",
    " \n",
    "x = int(input(\"give input intiger to create list\"))\n",
    "\n",
    "s(x)"
   ]
  },
  {
   "cell_type": "raw",
   "metadata": {},
   "source": [
    "38. Define a function which can generate a list where the values are square of numbers between 1 and 20 (both included). Then the function needs to print the first 5 elements in the list.\n",
    "Hints: Use ** operator to get power of a number. Use range() for loops. Use list.append() to add values into a list. Use [n1:n2] to slice a list"
   ]
  },
  {
   "cell_type": "code",
   "execution_count": 33,
   "metadata": {},
   "outputs": [
    {
     "name": "stdout",
     "output_type": "stream",
     "text": [
      "give input intiger to create list20\n",
      "[1, 4, 9, 16, 25]\n"
     ]
    }
   ],
   "source": [
    "def s(x):\n",
    "    a = []\n",
    "    for i in range(1,(x+1)):\n",
    "        a.append(int(i**2))\n",
    "    print(a[0:5])\n",
    " \n",
    "x = int(input(\"give input intiger to create list\"))\n",
    "\n",
    "s(x)"
   ]
  },
  {
   "cell_type": "raw",
   "metadata": {},
   "source": [
    "39. Define a function which can generate a list where the values are square of numbers between 1 and 20 (both included). Then the function needs to print the last 5 elements in the list.\n",
    "Hints: Use ** operator to get power of a number. Use range() for loops. Use list.append() to add values into a list. Use [n1:n2] to slice a list"
   ]
  },
  {
   "cell_type": "code",
   "execution_count": 34,
   "metadata": {},
   "outputs": [
    {
     "name": "stdout",
     "output_type": "stream",
     "text": [
      "give input intiger to create list30\n",
      "[1, 4, 9, 16, 25]\n"
     ]
    }
   ],
   "source": [
    "def s(x):\n",
    "    a = []\n",
    "    for i in range(1,(x+1)):\n",
    "        a.append(int(i**2))\n",
    "    print(a[0:5])\n",
    " \n",
    "x = int(input(\"give input intiger to create list\"))\n",
    "\n",
    "s(x)"
   ]
  },
  {
   "cell_type": "raw",
   "metadata": {},
   "source": [
    "40. Define a function which can generate a list where the values are square of numbers between 1 and 20 (both included). Then the function needs to print all values except the first 5 elements in the list.\n",
    "Hints: Use ** operator to get power of a number. Use range() for loops. Use list.append() to add values into a list. Use [n1:n2] to slice a list"
   ]
  },
  {
   "cell_type": "code",
   "execution_count": 35,
   "metadata": {},
   "outputs": [
    {
     "name": "stdout",
     "output_type": "stream",
     "text": [
      "give input intiger to create list50\n",
      "[1, 4, 9, 16, 25]\n"
     ]
    }
   ],
   "source": [
    "def s(x):\n",
    "    a = []\n",
    "    for i in range(1,(x+1)):\n",
    "        a.append(int(i**2))\n",
    "    print(a[0:5])\n",
    " \n",
    "x = int(input(\"give input intiger to create list\"))\n",
    "\n",
    "s(x)"
   ]
  },
  {
   "cell_type": "raw",
   "metadata": {},
   "source": [
    "41. Define a function which can generate and print a tuple where the value are square of numbers between 1 and 20 (both included).\n",
    "Hints: Use ** operator to get power of a number. Use range() for loops. Use list.append() to add values into a list. Use tuple() to get a tuple from a list."
   ]
  },
  {
   "cell_type": "code",
   "execution_count": 37,
   "metadata": {},
   "outputs": [
    {
     "name": "stdout",
     "output_type": "stream",
     "text": [
      "give input intiger to create list20\n",
      "[0, 1, 4, 9, 16, 25, 36, 49, 64, 81, 100, 121, 144, 169, 196, 225, 256, 289, 324, 361]\n",
      "<class 'list'>\n",
      "(0, 1, 4, 9, 16, 25, 36, 49, 64, 81, 100, 121, 144, 169, 196, 225, 256, 289, 324, 361)\n",
      "<class 'tuple'>\n"
     ]
    }
   ],
   "source": [
    "def s(x):\n",
    "    a = []\n",
    "    for i in range(x):\n",
    "        a.append(i**2)\n",
    "    print(a)\n",
    "    print(type(a))\n",
    "    b=tuple(a)\n",
    "    print(b)\n",
    "    print(type(b))\n",
    "    \n",
    "x = int(input(\"give input intiger to create list\"))\n",
    "\n",
    "s(x)"
   ]
  },
  {
   "cell_type": "raw",
   "metadata": {},
   "source": [
    "42. With a given tuple (1,2,3,4,5,6,7,8,9,10), write a program to print the first half values in one line and the last half values in one line.\n",
    "Hints: Use [n1:n2] notation to get a slice from a tuple."
   ]
  },
  {
   "cell_type": "code",
   "execution_count": 40,
   "metadata": {},
   "outputs": [
    {
     "name": "stdout",
     "output_type": "stream",
     "text": [
      "tuple vaclues which you need to get1,2,3,4,5,6,7,8,9,10\n",
      "1,2,3,4,5,\n",
      "6,7,8,9,10\n"
     ]
    }
   ],
   "source": [
    "def s(x):\n",
    "    i = len(x)\n",
    "    print(x[0:(int(len(x)/2))])\n",
    "    print(x[(int(len(x)/2)):])\n",
    "    \n",
    "x = input(\"tuple vaclues which you need to get\")\n",
    "s(x)"
   ]
  },
  {
   "cell_type": "raw",
   "metadata": {},
   "source": [
    "43. Write a program to generate and print another tuple whose values are even numbers in the given tuple (1,2,3,4,5,6,7,8,9,10).\n",
    "Hints: Use \"for\" to iterate the tuple. Use tuple() to generate a tuple from a list."
   ]
  },
  {
   "cell_type": "code",
   "execution_count": 41,
   "metadata": {},
   "outputs": [
    {
     "name": "stdout",
     "output_type": "stream",
     "text": [
      "(2, 4, 6, 8, 10)\n"
     ]
    }
   ],
   "source": [
    "def s(x):\n",
    "    a = []\n",
    "    for i in x:\n",
    "        if (i%2)==0:\n",
    "            a.append(i)\n",
    "    b=tuple(a)\n",
    "    print(b)\n",
    "    \n",
    "x=(1,2,3,4,5,6,7,8,9,10)\n",
    "s(x)"
   ]
  },
  {
   "cell_type": "raw",
   "metadata": {},
   "source": [
    "44. Write a program which accepts a string as input to print \"Yes\" if the string is \"yes\" or \"YES\" or \"Yes\", otherwise print \"No\".\n",
    "Hints: Use if statement to judge condition."
   ]
  },
  {
   "cell_type": "code",
   "execution_count": 43,
   "metadata": {},
   "outputs": [
    {
     "name": "stdout",
     "output_type": "stream",
     "text": [
      "give string to judgeyes\n",
      "Yes\n"
     ]
    }
   ],
   "source": [
    "x = input(\"give string to judge\")\n",
    "\n",
    "if x==\"yes\":\n",
    "    print(\"Yes\")\n",
    "elif x==\"YES\":\n",
    "    print(\"Yes\")\n",
    "elif x==\"Yes\":\n",
    "    print(\"Yes\")\n",
    "else :\n",
    "    print(\"NO\")\n",
    "        "
   ]
  },
  {
   "cell_type": "raw",
   "metadata": {},
   "source": [
    "45. Write a program which can filter even numbers in a list by using filter function. The list is: [1,2,3,4,5,6,7,8,9,10].\n",
    "Hints: use filter() to filter some elements in a list. Use lambda to define anonymous functions."
   ]
  },
  {
   "cell_type": "code",
   "execution_count": 45,
   "metadata": {},
   "outputs": [
    {
     "name": "stdout",
     "output_type": "stream",
     "text": [
      "[2, 4, 6, 8, 10]\n"
     ]
    }
   ],
   "source": [
    "x = [1,2,3,4,5,6,7,8,9,10]\n",
    "is_even = lambda x: x % 2 == 0\n",
    "lis2 = list(filter(is_even, x))\n",
    "print(lis2)"
   ]
  },
  {
   "cell_type": "raw",
   "metadata": {},
   "source": [
    "46. Write a program which can map() to make a list whose elements are square of elements in [1,2,3,4,5,6,7,8,9,10].\n",
    "Hints: Use map() to generate a list. Use lambda to define anonymous functions."
   ]
  },
  {
   "cell_type": "code",
   "execution_count": 1,
   "metadata": {},
   "outputs": [
    {
     "name": "stdout",
     "output_type": "stream",
     "text": [
      "[1, 4, 9, 16, 25, 36, 49, 64, 81, 100]\n"
     ]
    }
   ],
   "source": [
    "li = [1,2,3,4,5,6,7,8,9,10]\n",
    "squaredNumbers = map(lambda x: x**2, li)  # returns map type object data\n",
    "print(list(squaredNumbers))               # converting the object into list"
   ]
  },
  {
   "cell_type": "raw",
   "metadata": {},
   "source": [
    "47. Write a program which can map() and filter() to make a list whose elements are square of even number in [1,2,3,4,5,6,7,8,9,10].\n",
    "Hints: Use map() to generate a list. Use filter() to filter elements of a list. Use lambda to define anonymous functions."
   ]
  },
  {
   "cell_type": "code",
   "execution_count": 2,
   "metadata": {},
   "outputs": [
    {
     "name": "stdout",
     "output_type": "stream",
     "text": [
      "[4, 16, 36, 64, 100]\n"
     ]
    }
   ],
   "source": [
    "def even(x):\n",
    "    return x%2==0\n",
    "\n",
    "def squer(x):\n",
    "    return x*x\n",
    "\n",
    "li = [1,2,3,4,5,6,7,8,9,10]\n",
    "li = map(squer,filter(even,li))   # first filters number by even number and the apply map() on the resultant elements\n",
    "print(list(li))"
   ]
  },
  {
   "cell_type": "raw",
   "metadata": {},
   "source": [
    "48. Write a program which can filter() to make a list whose elements are even number between 1 and 20 (both included).\n",
    "Hints: Use filter() to filter elements of a list. Use lambda to define anonymous functions."
   ]
  },
  {
   "cell_type": "code",
   "execution_count": 10,
   "metadata": {},
   "outputs": [
    {
     "name": "stdout",
     "output_type": "stream",
     "text": [
      "[1, 2, 3, 4, 5, 6, 7, 8, 9, 10, 11, 12, 13, 14, 15, 16, 17, 18, 19, 20]\n",
      "[2, 4, 6, 8, 10, 12, 14, 16, 18, 20]\n"
     ]
    }
   ],
   "source": [
    "li=[]\n",
    "for i in range(1,21):\n",
    "    li.append(i)\n",
    "print(li)\n",
    "\n",
    "is_even = lambda li: li%2==0\n",
    "ans = list(filter(is_even,li))\n",
    "print(ans)"
   ]
  },
  {
   "cell_type": "raw",
   "metadata": {},
   "source": [
    "49. Write a program which can map() to make a list whose elements are square of numbers between 1 and 20 (both included).\n",
    "Hints: Use map() to generate a list. Use lambda to define anonymous functions."
   ]
  },
  {
   "cell_type": "code",
   "execution_count": 12,
   "metadata": {},
   "outputs": [
    {
     "name": "stdout",
     "output_type": "stream",
     "text": [
      "[1, 2, 3, 4, 5, 6, 7, 8, 9, 10, 11, 12, 13, 14, 15, 16, 17, 18, 19, 20]\n",
      "[1, 4, 9, 16, 25, 36, 49, 64, 81, 100, 121, 144, 169, 196, 225, 256, 289, 324, 361, 400]\n"
     ]
    },
    {
     "data": {
      "text/plain": [
       "'li = [1,2,3,4,5,6,7,8,9,10]\\nli = map(squer,filter(li))   # first filters number by even number and the apply map() on the resultant elements\\nprint(list(li))'"
      ]
     },
     "execution_count": 12,
     "metadata": {},
     "output_type": "execute_result"
    }
   ],
   "source": [
    "li=[]\n",
    "for i in range(1,21):\n",
    "    li.append(i)\n",
    "print(li)\n",
    "\n",
    "squaredNumbers = map(lambda x: x**2, li)  # returns map type object data\n",
    "print(list(squaredNumbers))  \n",
    "\n",
    "'''li = [1,2,3,4,5,6,7,8,9,10]\n",
    "li = map(squer,filter(li))   # first filters number by even number and the apply map() on the resultant elements\n",
    "print(list(li))'''\n",
    "\n",
    "#li = [1,2,3,4,5,6,7,8,9,10]\n"
   ]
  },
  {
   "cell_type": "raw",
   "metadata": {},
   "source": [
    "50. Define a class named American which has a static method called printNationality.\n",
    "Hints: Use @staticmethod decorator to define class static method."
   ]
  },
  {
   "cell_type": "raw",
   "metadata": {},
   "source": [
    "51. Define a class named American and its subclass NewYorker.\n",
    "Hints: Use class Subclass(ParentClass) to define a subclass."
   ]
  },
  {
   "cell_type": "raw",
   "metadata": {},
   "source": [
    "52. Define a class named Circle which can be constructed by a radius. The Circle class has a method which can compute the area.\n",
    "Hints: Use def methodName(self) to define a method."
   ]
  },
  {
   "cell_type": "raw",
   "metadata": {},
   "source": [
    "53. Define a class named Rectangle which can be constructed by a length and width. The Rectangle class has a method which can compute the area.\n",
    "Hints: Use def methodName(self) to define a method."
   ]
  },
  {
   "cell_type": "raw",
   "metadata": {},
   "source": [
    "54. Define a class named Shape and its subclass Square. The Square class has an init function which takes a length as argument. Both classes have a area function which can print the area of the shape where Shape's area is 0 by default.\n",
    "Hints: To override a method in super class, we can define a method with the same name in the super class."
   ]
  },
  {
   "cell_type": "raw",
   "metadata": {},
   "source": [
    "55. Write a function to compute 5/0 and use try/except to catch the exceptions.\n",
    "Hints: Use try/except to catch exceptions."
   ]
  },
  {
   "cell_type": "code",
   "execution_count": 10,
   "metadata": {},
   "outputs": [
    {
     "name": "stdout",
     "output_type": "stream",
     "text": [
      "You can't divide by zero!\n"
     ]
    }
   ],
   "source": [
    "try:\n",
    "    print (5/0)\n",
    "except ZeroDivisionError:  #will use ZeroDivisionError for zero divide Error\n",
    "    print (\"You can't divide by zero!\")"
   ]
  },
  {
   "cell_type": "raw",
   "metadata": {},
   "source": [
    "56. Define a custom exception class which takes a string message as attribute.\n",
    "Hints: To define a custom exception, we need to define a class inherited from Exception."
   ]
  },
  {
   "cell_type": "code",
   "execution_count": 18,
   "metadata": {},
   "outputs": [
    {
     "ename": "SyntaxError",
     "evalue": "invalid syntax (<ipython-input-18-9f23ee1b161e>, line 9)",
     "output_type": "error",
     "traceback": [
      "\u001b[1;36m  File \u001b[1;32m\"<ipython-input-18-9f23ee1b161e>\"\u001b[1;36m, line \u001b[1;32m9\u001b[0m\n\u001b[1;33m    except CustomException, (instance):\u001b[0m\n\u001b[1;37m                          ^\u001b[0m\n\u001b[1;31mSyntaxError\u001b[0m\u001b[1;31m:\u001b[0m invalid syntax\n"
     ]
    }
   ],
   "source": [
    "class CustomException(Exception):\n",
    "    def __init__(self, value):\n",
    "        self.parameter = value\n",
    "    def __str__(self):\n",
    "        return repr(self.parameter)\n",
    "\n",
    "try:\n",
    "    raise CustomException(\"My Useful Error Message\")\n",
    "except CustomException, (instance):\n",
    "    print \"Caught: \" + instance.parameter"
   ]
  },
  {
   "cell_type": "code",
   "execution_count": 23,
   "metadata": {},
   "outputs": [
    {
     "name": "stdout",
     "output_type": "stream",
     "text": [
      "Object `w` not found.\n"
     ]
    }
   ],
   "source": []
  },
  {
   "cell_type": "code",
   "execution_count": null,
   "metadata": {},
   "outputs": [],
   "source": [
    "\\w"
   ]
  },
  {
   "cell_type": "raw",
   "metadata": {},
   "source": [
    "57. Assuming that we have some email addresses in the \"username@companyname.com\" format, please write program to print the user name of a given email address. Both user names and company names are composed of letters only.\n",
    "If the following email address is given as input to the program: AAAA@Outlook.com\n",
    "Then, the output of the program should be: AAAA\n",
    "In case of input data being supplied to the question, it should be assumed to be a console input.\n",
    "Hints: Use \\w to match letters."
   ]
  },
  {
   "cell_type": "code",
   "execution_count": 44,
   "metadata": {},
   "outputs": [
    {
     "name": "stdout",
     "output_type": "stream",
     "text": [
      "AAAA"
     ]
    }
   ],
   "source": [
    "#x = \"username@companyname.com\"\n",
    "x = \"AAAA@Outlook.com\"\n",
    "a=[]\n",
    "for i in x :\n",
    "    if i!=\"@\":\n",
    "        a.append(i)\n",
    "    else:\n",
    "        break\n",
    "\n",
    "#print(a)\n",
    "for i in a: \n",
    "    print(i, end=\"\")"
   ]
  },
  {
   "cell_type": "code",
   "execution_count": 63,
   "metadata": {},
   "outputs": [
    {
     "name": "stdout",
     "output_type": "stream",
     "text": [
      "username :  AAAA\n"
     ]
    }
   ],
   "source": [
    "import re\n",
    "phone = \"AAAA@Outlook.com\"\n",
    "num = re.sub('\\W', \",\", phone)  \n",
    "\n",
    "print (\"username : \",(num.split(\",\"))[0])\n"
   ]
  },
  {
   "cell_type": "raw",
   "metadata": {},
   "source": [
    "58. Assuming that we have some email addresses in the \"username@companyname.com\" format, please write program to print the company name of a given email address. Both user names and company names are composed of letters only.\n",
    "If the following email address is given as input to the program: AAAA@Outlook.com\n",
    "Then, the output of the program should be: Outlook\n",
    "In case of input data being supplied to the question, it should be assumed to be a console input.\n",
    "Hints: Use \\w to match letters"
   ]
  },
  {
   "cell_type": "code",
   "execution_count": 62,
   "metadata": {},
   "outputs": [
    {
     "name": "stdout",
     "output_type": "stream",
     "text": [
      "Phone Num :  companyname\n"
     ]
    }
   ],
   "source": [
    "import re\n",
    "phone = \"username@companyname.com\"\n",
    "num = re.sub('\\W', \",\", phone)  \n",
    "\n",
    "print (\"Comapny name : \",(num.split(\",\"))[1])"
   ]
  },
  {
   "cell_type": "raw",
   "metadata": {},
   "source": [
    "59. Write a program which accepts a sequence of words separated by whitespace as input to print the words composed of digits only.\n",
    "If the following words are given as input to the program: 2 cats and 3 dogs.\n",
    "Then, the output of the program should be: ['2', '3']\n",
    "In case of input data being supplied to the question, it should be assumed to be a console input.\n",
    "Hints: Use re.findall() to find all substring using regex."
   ]
  },
  {
   "cell_type": "code",
   "execution_count": 79,
   "metadata": {
    "scrolled": true
   },
   "outputs": [
    {
     "name": "stdout",
     "output_type": "stream",
     "text": [
      "Comapny name :  2          3      \n"
     ]
    }
   ],
   "source": [
    "import re\n",
    "phone = \"2 cats and 3 dogs.\"\n",
    "num = re.sub(\"\\D\",\" \", phone)  \n",
    "#r1 = re.findall(r\"^\\w+\",xx)\n",
    "\n",
    "print (\"Comapny name : \",num)"
   ]
  },
  {
   "cell_type": "code",
   "execution_count": 71,
   "metadata": {},
   "outputs": [
    {
     "name": "stdout",
     "output_type": "stream",
     "text": [
      "['guru99']\n"
     ]
    }
   ],
   "source": [
    "import re\n",
    "xx = \"guru99,education is fun\"\n",
    "r1 = re.findall(r\"^\\w+\",xx)\n",
    "print(r1)"
   ]
  },
  {
   "cell_type": "raw",
   "metadata": {},
   "source": [
    "60. Print a unicode string \"hello world\".\n",
    "Hints: Use u'strings' format to define unicode string."
   ]
  },
  {
   "cell_type": "code",
   "execution_count": 84,
   "metadata": {},
   "outputs": [
    {
     "name": "stdout",
     "output_type": "stream",
     "text": [
      "Convert a string to unicode: hello world\n"
     ]
    }
   ],
   "source": [
    "def stringToUnicode(string):\n",
    "\tr=\"\"\n",
    "\tfor s in string:\n",
    "\t\tr+=bin(ord(s))[2:].zfill(8)\n",
    "\treturn r\n",
    " \n",
    "def unicodeToString(unicodeBinary):\n",
    "\tr=\"\"\n",
    "\tub=unicodeBinary\n",
    "\tfor u in [ub[0+i:8+i] for i in range(0, len(ub), 8)]:\n",
    "\t\t\tr+=chr(int(ub, 2))\n",
    "\treturn r\n",
    " \n",
    "if __name__ == \"__main__\":\n",
    "\tstringToUnicode(input(\"Convert a string to unicode: \"))"
   ]
  },
  {
   "cell_type": "raw",
   "metadata": {},
   "source": [
    "61. Write a program to read an ASCII string and to convert it to a unicode string encoded by utf-8.\n",
    "Hints: Use unicode() function to convert."
   ]
  },
  {
   "cell_type": "raw",
   "metadata": {},
   "source": [
    "62. Write a special comment to indicate a Python source code file is in unicode."
   ]
  },
  {
   "cell_type": "raw",
   "metadata": {},
   "source": [
    "63. Write a program to compute 1/2+2/3+3/4+...+n/n+1 with a given n input by console (n>0).\n",
    "If the following n is given as input to the program: 5\n",
    "Then, the output of the program should be: 3.55\n",
    "In case of input data being supplied to the question, it should be assumed to be a console input.\n",
    "Hints: Use float() to convert an integer to a float"
   ]
  },
  {
   "cell_type": "raw",
   "metadata": {},
   "source": [
    "64. Write a program to compute:\n",
    "f(n)=f(n-1)+100 when n>0\n",
    "and f(0)=1\n",
    "with a given n input by console (n>0).\n",
    "If the following n is given as input to the program: 5\n",
    "Then, the output of the program should be: 500\n",
    "In case of input data being supplied to the question, it should be assumed to be a console input.\n",
    "Hints: We can define recursive function in Python."
   ]
  },
  {
   "cell_type": "raw",
   "metadata": {},
   "source": [
    "65. The Fibonacci sequence is computed based on the following formula:\n",
    "f(n)=0 if n=0\n",
    "f(n)=1 if n=1\n",
    "f(n)=f(n-1)+f(n-2) if n>1\n",
    "Please write a program to compute the value of f(n) with a given n input by console.\n",
    "If the following n is given as input to the program: 7\n",
    "Then, the output of the program should be: 13\n",
    "In case of input data being supplied to the question, it should be assumed to be a console input.\n",
    "Hints: We can define recursive function in Python."
   ]
  },
  {
   "cell_type": "raw",
   "metadata": {},
   "source": [
    "66. The Fibonacci sequence is computed based on the following formula:\n",
    "f(n)=0 if n=0\n",
    "f(n)=1 if n=1\n",
    "f(n)=f(n-1)+f(n-2) if n>1\n",
    "Please write a program using list comprehension to print the Fibonacci sequence in comma separated form with a given n input by console.\n",
    "If the following n is given as input to the program: 7\n",
    "Then, the output of the program should be: 0, 1, 1, 2, 3, 5, 8, 13\n",
    "Hints: We can define recursive function in Python. Use list comprehension to generate a list from an existing list. Use string.join() to join a list of strings. In case of input data being supplied to the question, it should be assumed to be a console input.\n"
   ]
  },
  {
   "cell_type": "raw",
   "metadata": {},
   "source": [
    "67. Please write a program using generator to print the even numbers between 0 and n in comma separated form while n is input by console.\n",
    "Example: If the following n is given as input to the program: 10\n",
    "Then, the output of the program should be: 0,2,4,6,8,10\n",
    "Hints: Use yield to produce the next value in generator. In case of input data being supplied to the question, it should be assumed to be a console input."
   ]
  },
  {
   "cell_type": "raw",
   "metadata": {},
   "source": [
    "68. Please write a program using generator to print the numbers which can be divisible by 5 and 7 between 0 and n in comma separated form while n is input by console.\n",
    "If the following n is given as input to the program: 100\n",
    "Then, the output of the program should be: 0, 35, 70\n",
    "Hints: Use yield to produce the next value in generator. In case of input data being supplied to the question, it should be assumed to be a console input."
   ]
  },
  {
   "cell_type": "raw",
   "metadata": {},
   "source": [
    "69. Please write assert statements to verify that every number in the list [2,4,6,8] is even.\n",
    "Hints: Use \"assert expression\" to make assertion."
   ]
  },
  {
   "cell_type": "raw",
   "metadata": {},
   "source": [
    "70. Please write a program which accepts basic mathematic expression from console and print the evaluation result.\n",
    "If the following string is given as input to the program: 35+3\n",
    "Then, the output of the program should be: 38\n",
    "Hints: Use eval() to evaluate an expression."
   ]
  },
  {
   "cell_type": "raw",
   "metadata": {},
   "source": [
    "71. Please write a binary search function which searches an item in a sorted list. The function should return the index of element to be searched in the list.\n",
    "Hints: Use if/elif to deal with conditions."
   ]
  },
  {
   "cell_type": "raw",
   "metadata": {},
   "source": [
    "72. Please write a binary search function which searches an item in a sorted list. The function should return the index of element to be searched in the list.\n",
    "Hints: Use if/elif to deal with conditions"
   ]
  },
  {
   "cell_type": "raw",
   "metadata": {},
   "source": [
    "73. Please generate a random float where the value is between 10 and 100 using Python math module.\n",
    "Hints: Use random.random() to generate a random float in [0,1]."
   ]
  },
  {
   "cell_type": "raw",
   "metadata": {},
   "source": [
    "74. Please generate a random float where the value is between 5 and 95 using Python math module.\n",
    "Hints: Use random.random() to generate a random float in [0,1]."
   ]
  },
  {
   "cell_type": "raw",
   "metadata": {},
   "source": [
    "75. Please write a program to output a random even number between 0 and 10 inclusive using random module and list comprehension.\n",
    "Hints: Use random.choice() to a random element from a list."
   ]
  },
  {
   "cell_type": "raw",
   "metadata": {},
   "source": [
    "76. Please write a program to output a random number, which is divisible by 5 and 7, between 0 and 10 inclusive using random module and list comprehension.\n",
    "Hints: Use random.choice() to a random element from a list."
   ]
  },
  {
   "cell_type": "raw",
   "metadata": {},
   "source": [
    "77. Please write a program to generate a list with 5 random numbers between 100 and 200 inclusive.\n",
    "Hints: Use random.sample() to generate a list of random values."
   ]
  },
  {
   "cell_type": "raw",
   "metadata": {},
   "source": [
    "78. Please write a program to randomly generate a list with 5 even numbers between 100 and 200 inclusive.\n",
    "Hints: Use random.sample() to generate a list of random values"
   ]
  },
  {
   "cell_type": "raw",
   "metadata": {},
   "source": [
    "79. Please write a program to randomly generate a list with 5 numbers, which are divisible by 5 and 7 , between 1 and 1000 inclusive.\n",
    "Hints: Use random.sample() to generate a list of random values."
   ]
  },
  {
   "cell_type": "raw",
   "metadata": {},
   "source": [
    "80. Please write a program to randomly print a integer number between 7 and 15 inclusive.\n",
    "Hints: Use random.randrange() to a random integer in a given range."
   ]
  },
  {
   "cell_type": "raw",
   "metadata": {},
   "source": [
    "81. Please write a program to compress and decompress the string \"hello world!hello world!hello world!hello world!\".\n",
    "Hints: Use zlib.compress() and zlib.decompress() to compress and decompress a string."
   ]
  },
  {
   "cell_type": "raw",
   "metadata": {},
   "source": [
    "82. Please write a program to print the running time of execution of \"1+1\" for 100 times.\n",
    "Hints: Use timeit() function to measure the running time."
   ]
  },
  {
   "cell_type": "raw",
   "metadata": {},
   "source": [
    "83. Please write a program to shuffle and print the list [3,6,7,8].\n",
    "Hints: Use shuffle() function to shuffle a list."
   ]
  },
  {
   "cell_type": "raw",
   "metadata": {},
   "source": [
    "84. Please write a program to shuffle and print the list [3,6,7,8].\n",
    "Hints: Use shuffle() function to shuffle a list."
   ]
  },
  {
   "cell_type": "raw",
   "metadata": {},
   "source": [
    "85. Please write a program to generate all sentences where subject is in [\"I\", \"You\"] and verb is in [\"Play\", \"Love\"] and the object is in [\"Hockey\",\"Football\"].\n",
    "Hints: Use list[index] notation to get a element from a list."
   ]
  },
  {
   "cell_type": "raw",
   "metadata": {},
   "source": [
    "86. Please write a program to print the list after removing delete even numbers in [5,6,77,45,22,12,24].\n",
    "Hints: Use list comprehension to delete a bunch of element from a list."
   ]
  },
  {
   "cell_type": "raw",
   "metadata": {},
   "source": [
    "87. By using list comprehension, please write a program to print the list after removing delete numbers which are divisible by 5 and 7 in [12,24,35,70,88,120,155].\n",
    "Hints: Use list comprehension to delete a bunch of element from a list."
   ]
  },
  {
   "cell_type": "raw",
   "metadata": {},
   "source": [
    "88. By using list comprehension, please write a program to print the list after removing the 0th, 2nd, 4th,6th numbers in [12,24,35,70,88,120,155].\n",
    "Hints: Use list comprehension to delete a bunch of element from a list. Use enumerate() to get (index, value) tuple."
   ]
  },
  {
   "cell_type": "raw",
   "metadata": {},
   "source": [
    "89. By using list comprehension, please write a program generate a 3*5*8 3D array whose each element is 0.\n",
    "Hints: Use list comprehension to make an array."
   ]
  },
  {
   "cell_type": "raw",
   "metadata": {},
   "source": [
    "90. By using list comprehension, please write a program to print the list after removing the 0th,4th,5th numbers in [12,24,35,70,88,120,155].\n",
    "Hints: Use list comprehension to delete a bunch of element from a list. Use enumerate() to get (index, value) tuple."
   ]
  },
  {
   "cell_type": "raw",
   "metadata": {},
   "source": [
    "91. By using list comprehension, please write a program to print the list after removing the value 24 in [12,24,35,24,88,120,155].\n",
    "Hints: Use list's remove method to delete a value."
   ]
  },
  {
   "cell_type": "raw",
   "metadata": {},
   "source": [
    "92. With two given lists [1,3,6,78,35,55] and [12,24,35,24,88,120,155], write a program to make a list whose elements are intersection of the above given lists.\n",
    "Hints: Use set() and \"&=\" to do set intersection operation."
   ]
  },
  {
   "cell_type": "raw",
   "metadata": {},
   "source": [
    "93. With a given list [12, 24, 35, 24, 88, 120, 155, 88, 120, 155], write a program to print this list after removing all duplicate values with original order reserved.\n",
    "Hints: Use set() to store a number of values without duplicate."
   ]
  },
  {
   "cell_type": "raw",
   "metadata": {},
   "source": [
    "94. Define a class Person and its two child classes: Male and Female. All classes have a method \"getGender\" which can print \"Male\" for Male class and \"Female\" for Female class.\n",
    "Hints: Use Subclass(Parentclass) to define a child class."
   ]
  },
  {
   "cell_type": "raw",
   "metadata": {},
   "source": [
    "95. Please write a program which count and print the numbers of each character in a string input by console.\n",
    "If the following string is given as input to the program: abcdefgabc\n",
    "Then, the output of the program should be:\n",
    "a,2\n",
    "c,2\n",
    "b,2\n",
    "e,1\n",
    "d,1\n",
    "g,1\n",
    "f,1\n",
    "Hints: Use dict to store key/value pairs. Use dict.get() method to lookup a key with default value."
   ]
  },
  {
   "cell_type": "raw",
   "metadata": {},
   "source": [
    "96 Please write a program which accepts a string from console and print it in reverse order.\n",
    "If the following string is given as input to the program: rise to vote sir\n",
    "Then, the output of the program should be: ris etov ot esir\n",
    "Hints: Use list[::-1] to iterate a list in a reverse order."
   ]
  },
  {
   "cell_type": "raw",
   "metadata": {},
   "source": [
    "97. Please write a program which accepts a string from console and print the characters that have even indexes.\n",
    "If the following string is given as input to the program: H1e2l3l4o5w6o7r8l9d\n",
    "Then, the output of the program should be: Helloworld\n",
    "Hints: Use list[::2] to iterate a list by step 2."
   ]
  },
  {
   "cell_type": "raw",
   "metadata": {},
   "source": [
    "98. Please write a program which prints all permutations of [1, 2, 3]\n",
    "Hints: Use itertools.permutations() to get permutations of list."
   ]
  },
  {
   "cell_type": "raw",
   "metadata": {},
   "source": [
    "99. Write a program to solve a classic ancient Chinese puzzle:\n",
    "We count 35 heads and 94 legs among the chickens and rabbits in a farm. How many rabbits and how many chickens do we have?\n",
    "Hint: Use for loop to iterate all possible solutions"
   ]
  },
  {
   "cell_type": "code",
   "execution_count": null,
   "metadata": {},
   "outputs": [],
   "source": []
  },
  {
   "cell_type": "code",
   "execution_count": null,
   "metadata": {},
   "outputs": [],
   "source": []
  },
  {
   "cell_type": "code",
   "execution_count": null,
   "metadata": {},
   "outputs": [],
   "source": []
  }
 ],
 "metadata": {
  "kernelspec": {
   "display_name": "Python 3",
   "language": "python",
   "name": "python3"
  },
  "language_info": {
   "codemirror_mode": {
    "name": "ipython",
    "version": 3
   },
   "file_extension": ".py",
   "mimetype": "text/x-python",
   "name": "python",
   "nbconvert_exporter": "python",
   "pygments_lexer": "ipython3",
   "version": "3.6.4"
  }
 },
 "nbformat": 4,
 "nbformat_minor": 2
}
