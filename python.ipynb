{
 "cells": [
  {
   "cell_type": "markdown",
   "metadata": {},
   "source": [
    "python Assignment"
   ]
  },
  {
   "cell_type": "markdown",
   "metadata": {},
   "source": [
    "1. Write a program which will find all such numbers which are divisible by 8 but are not a multiple of 5, between 4000 and 5300 (both included). The numbers obtained should be printed in a comma-separated sequence on a single line."
   ]
  },
  {
   "cell_type": "code",
   "execution_count": 19,
   "metadata": {},
   "outputs": [
    {
     "name": "stdout",
     "output_type": "stream",
     "text": [
      "4008,4016,4024,4032,4048,4056,4064,4072,4088,4096,4104,4112,4128,4136,4144,4152,4168,4176,4184,4192,4208,4216,4224,4232,4248,4256,4264,4272,4288,4296,4304,4312,4328,4336,4344,4352,4368,4376,4384,4392,4408,4416,4424,4432,4448,4456,4464,4472,4488,4496,4504,4512,4528,4536,4544,4552,4568,4576,4584,4592,4608,4616,4624,4632,4648,4656,4664,4672,4688,4696,4704,4712,4728,4736,4744,4752,4768,4776,4784,4792,4808,4816,4824,4832,4848,4856,4864,4872,4888,4896,4904,4912,4928,4936,4944,4952,4968,4976,4984,4992,5008,5016,5024,5032,5048,5056,5064,5072,5088,5096,5104,5112,5128,5136,5144,5152,5168,5176,5184,5192,5208,5216,5224,5232,5248,5256,5264,5272,5288,5296\n"
     ]
    }
   ],
   "source": [
    "a = [] \n",
    "for i in range(4000,5301,1):\n",
    "    #print(i)\n",
    "    if i%8==0 and i%5!=0:\n",
    "        #print(i)\n",
    "        a.append(i)\n",
    "print(*a,sep = \",\")"
   ]
  },
  {
   "cell_type": "markdown",
   "metadata": {},
   "source": [
    "2. Write a program which can compute the factorial of a given numbers. The results should be printed in a comma-separated sequence on a single line.\n",
    "Hints: In case of input data being supplied to the question, it should be assumed to be a console input."
   ]
  },
  {
   "cell_type": "code",
   "execution_count": 15,
   "metadata": {
    "scrolled": true
   },
   "outputs": [
    {
     "name": "stdout",
     "output_type": "stream",
     "text": [
      "number factorial separated by comma-100,100\n",
      "['-100', '100']\n",
      "negative number so factorial is possible\n",
      "[None, 93326215443944152681699238856266700490715968264381621468592963895217599993229915608941463976156518286253697920827223758251185210916864000000000000000000000000]\n"
     ]
    }
   ],
   "source": [
    "def fact(x):\n",
    "    if x < 0 :\n",
    "        print(\"negative number so factorial is possible\")\n",
    "    else:\n",
    "        fact = 1\n",
    "        for i in range(1,x+1,1):\n",
    "            fact = fact*i \n",
    "        #print(\"factorial of number  is\",fact)\n",
    "        return fact\n",
    "            \n",
    "x = input(\"number factorial separated by comma\").split(\",\")\n",
    "print(x)\n",
    "x = [int(i) for i in x]\n",
    "a = []\n",
    "for i in x:\n",
    "    f=fact(i)\n",
    "    a.append(f)\n",
    "print(a)\n"
   ]
  },
  {
   "cell_type": "raw",
   "metadata": {},
   "source": [
    "3. With a given integral number n, write a program to generate a dictionary that contains (i, i*i) such that is an integral number between 1 and n (both included) and then the program should print the dictionary.\n",
    "Suppose the input is supplied to the program: 4\n",
    "Then, the output should be: {1: 1, 2: 4, 3: 9, 4: 16}\n",
    "Hints: In case of input data being supplied to the question, it should be assumed to be a console input. Consider use dict()"
   ]
  },
  {
   "cell_type": "code",
   "execution_count": 7,
   "metadata": {},
   "outputs": [
    {
     "data": {
      "text/plain": [
       "{1: 1, 2: 4, 3: 9, 4: 16, 5: 25, 6: 36}"
      ]
     },
     "execution_count": 7,
     "metadata": {},
     "output_type": "execute_result"
    }
   ],
   "source": [
    "def di(x):\n",
    "    a =[]\n",
    "    for i in range (1,x+1):\n",
    "        n = (i,i*i)\n",
    "        a.append(n)\n",
    "    return dict(a)\n",
    "\n",
    "\n",
    "di(6)\n",
    "    "
   ]
  },
  {
   "cell_type": "raw",
   "metadata": {},
   "source": [
    "4. Write a program which accepts a sequence of comma-separated numbers from console and generate a list and a tuple which contains every number.\n",
    "Suppose the input is supplied to the program: 34, 67, 55, 33, 12, 98\n",
    "Then, the output should be:\n",
    "['34', '67', '55', '33', '12', '98']\n",
    "('34', '67', '55', '33', '12', '98')\n",
    "Hints: In case of input data being supplied to the question, it should be assumed to be a console input. tuple() method can convert list to tuple"
   ]
  },
  {
   "cell_type": "code",
   "execution_count": 14,
   "metadata": {},
   "outputs": [
    {
     "name": "stdout",
     "output_type": "stream",
     "text": [
      "please give inout separtaed by Comma9,8,8,8,8,8\n",
      "['9', '8', '8', '8', '8', '8']\n",
      "('9', '8', '8', '8', '8', '8')\n"
     ]
    }
   ],
   "source": [
    "x = input(\"please give inout separtaed by Comma\").split(\",\")\n",
    "a = []\n",
    "for i in x :\n",
    "    a.append(i)\n",
    "print(a)\n",
    "b = tuple(a)\n",
    "print(b)"
   ]
  },
  {
   "cell_type": "raw",
   "metadata": {},
   "source": [
    "5. Define a class which has at least two methods:\n",
    "getString: to get a string from console input\n",
    "printString: to print the string in upper case\n",
    "Also please include simple test function to test the class methods.\n",
    "Hints: Use __init__ method to construct some parameters"
   ]
  },
  {
   "cell_type": "raw",
   "metadata": {},
   "source": [
    "6. Write a program that calculates and prints the value according to the given formula:\n",
    "Q = Square root of [(2 * C * D)/H]\n",
    "Following are the fixed values of C and H: C is 50. H is 30.\n",
    "D is the variable whose values should be input to your program in a comma-separated sequence.\n",
    "Let us assume the following comma separated input sequence is given to the program: 100,150,180\n",
    "The output of the program should be: 18, 22, 24\n",
    "Hints: If the output received is in decimal form, it should be rounded off to its nearest value (for example, if the output received is 26.0, it should be printed as 26)\n",
    "In case of input data being supplied to the question, it should be assumed to be a console input."
   ]
  },
  {
   "cell_type": "code",
   "execution_count": 47,
   "metadata": {},
   "outputs": [
    {
     "name": "stdout",
     "output_type": "stream",
     "text": [
      "Enter the values to find the Sqrt values100,150,180\n",
      "[18, 22, 24]\n"
     ]
    }
   ],
   "source": [
    "'''def srt(D):\n",
    "    a = []\n",
    "    C = 50\n",
    "    H = 30\n",
    "    #Q = [(2*C*D)/H]**(0.5)]\n",
    "    for i in D:\n",
    "        Q = [(2*C*D)/H]**(0.5)\n",
    "        a.append(Q)\n",
    "    return a\n",
    "\n",
    "x = input(\"Please enter value for Squreroot you want to find\").split(\",\")\n",
    "print(x)\n",
    "x = [int(i) for i in x]\n",
    "print(a)'''\n",
    "\n",
    "import math\n",
    "D = input(\"Enter the values to find the Sqrt values\").split(\",\")\n",
    "a = []\n",
    "for i in D:\n",
    "    i = int(i)\n",
    "    C = 50\n",
    "    H = 30\n",
    "    Q=round(math.sqrt((2*C*i/H)))\n",
    "    #print(Q)\n",
    "    #Q = round(Q)\n",
    "    a.append(Q)\n",
    "print(a)\n"
   ]
  },
  {
   "cell_type": "raw",
   "metadata": {},
   "source": [
    "7.Write a program which takes 2 digits, X,Y as input and generates a 2-dimensional array. The element value in the i-th row and j-th column of the array should be i*j.\n",
    "Note: i=0,1.., X-1; j=0,1,¡Y-1.\n",
    "Suppose the following inputs are given to the program: 3, 5\n",
    "Then, the output of the program should be: [[0, 0, 0, 0, 0], [0, 1, 2, 3, 4], [0, 2, 4, 6, 8]]\n",
    "Hints: In case of input data being supplied to the question, it should be assumed to be a console input in a comma-separated form."
   ]
  },
  {
   "cell_type": "code",
   "execution_count": 6,
   "metadata": {
    "scrolled": true
   },
   "outputs": [
    {
     "name": "stdout",
     "output_type": "stream",
     "text": [
      "Input number of rows: 3\n",
      "Input number of columns: 5\n",
      "[[0, 0, 0, 0, 0], [0, 1, 2, 3, 4], [0, 2, 4, 6, 8]]\n"
     ]
    }
   ],
   "source": [
    "row_num = int(input(\"Input number of rows: \"))\n",
    "col_num = int(input(\"Input number of columns: \"))\n",
    "multi_list = [[0 for col in range(col_num)] for row in range(row_num)]\n",
    "\n",
    "for row in range(row_num):\n",
    "    for col in range(col_num):\n",
    "        multi_list[row][col]= row*col\n",
    "\n",
    "print(multi_list)"
   ]
  },
  {
   "cell_type": "raw",
   "metadata": {},
   "source": [
    "8. Write a program that accepts a comma separated sequence of words as input and prints the words in a comma-separated sequence after sorting them alphabetically.\n",
    "Suppose the input is supplied to the program: without, hello, bag, world\n",
    "Then, the output should be: bag, hello, without, world\n",
    "Hints: In case of input data being supplied to the question, it should be assumed to be a console input"
   ]
  },
  {
   "cell_type": "code",
   "execution_count": 12,
   "metadata": {},
   "outputs": [
    {
     "name": "stdout",
     "output_type": "stream",
     "text": [
      "please enter the string need to sortwithout, hello, bag, world\n",
      "[' bag', ' hello', ' world', 'without']\n"
     ]
    }
   ],
   "source": [
    "#i =['without', 'hello', 'bag', 'world']\n",
    "#sorted(i)\n",
    "d = input(\"please enter the list need to sort\").split(\",\")\n",
    "a = []\n",
    "for i in range(len(d)):\n",
    "    a.append(d[i])\n",
    "b = sorted(a)\n",
    "print(b)\n",
    "    "
   ]
  },
  {
   "cell_type": "raw",
   "metadata": {},
   "source": [
    "9.Write a program that accepts sequence of lines as input and prints the lines after making all characters in the sentence capitalized.\n",
    "Suppose the input is supplied to the program: Hello world\n",
    "Practice makes perfect\n",
    "Then, the output should be: HELLO WORLD\n",
    "PRACTICE MAKES PERFECT\n",
    "Hints: In case of input data being supplied to the question, it should be assumed to be a console input."
   ]
  },
  {
   "cell_type": "code",
   "execution_count": 19,
   "metadata": {},
   "outputs": [
    {
     "name": "stdout",
     "output_type": "stream",
     "text": [
      "please enter the list need to sortHello world Practice makes perfect\n",
      "['HELLO WORLD PRACTICE MAKES PERFECT']\n"
     ]
    }
   ],
   "source": [
    "d = input(\"please enter the list need to sort\").split(\",\")\n",
    "a = []\n",
    "for i in range(len(d)):\n",
    "    y=(d[i].upper())\n",
    "    a.append(y)\n",
    "print(a)"
   ]
  },
  {
   "cell_type": "raw",
   "metadata": {},
   "source": [
    "10. Write a program that accepts a sequence of whitespace separated words as input and prints the words after removing all duplicate words and sorting them alphanumerically.\n",
    "Suppose the input is supplied to the program: hello world and practice makes perfect and hello world again\n",
    "Then, the output should be: again and hello makes perfect practice world\n",
    "Hints: In case of input data being supplied to the question, it should be assumed to be a console input. We use set container to remove duplicated data automatically and then use sorted() to sort the data."
   ]
  },
  {
   "cell_type": "code",
   "execution_count": null,
   "metadata": {},
   "outputs": [],
   "source": [
    "'''d =\"hello world and practice makes perfect and hello world again\"\n",
    "a = []\n",
    "for i in range(len(d)):\n",
    "    if d[i]==\" \":\n",
    "        break\n",
    "    else:\n",
    "        .join(d[i])\n",
    "       \n",
    "print(a)'''\n",
    "\n",
    "h = input(\"Please enter sentence with space as division\").split(\" \")\n",
    "h=sorted(h)\n",
    "h=set(h)\n",
    "print(h)"
   ]
  },
  {
   "cell_type": "raw",
   "metadata": {},
   "source": [
    "12. Write a program, which will find all such numbers between 1000 and 3000 (both included) such that each digit of the number is an even number.\n",
    "The numbers obtained should be printed in a comma-separated sequence on a single line.\n",
    "Hints: In case of input data being supplied to the question, it should be assumed to be a console input."
   ]
  },
  {
   "cell_type": "code",
   "execution_count": 30,
   "metadata": {},
   "outputs": [
    {
     "name": "stdout",
     "output_type": "stream",
     "text": [
      "['2000', '2002', '2004', '2006', '2008', '2020', '2022', '2024', '2026', '2028', '2040', '2042', '2044', '2046', '2048', '2060', '2062', '2064', '2066', '2068', '2080', '2082', '2084', '2086', '2088', '2200', '2202', '2204', '2206', '2208', '2220', '2222', '2224', '2226', '2228', '2240', '2242', '2244', '2246', '2248', '2260', '2262', '2264', '2266', '2268', '2280', '2282', '2284', '2286', '2288', '2400', '2402', '2404', '2406', '2408', '2420', '2422', '2424', '2426', '2428', '2440', '2442', '2444', '2446', '2448', '2460', '2462', '2464', '2466', '2468', '2480', '2482', '2484', '2486', '2488', '2600', '2602', '2604', '2606', '2608', '2620', '2622', '2624', '2626', '2628', '2640', '2642', '2644', '2646', '2648', '2660', '2662', '2664', '2666', '2668', '2680', '2682', '2684', '2686', '2688', '2800', '2802', '2804', '2806', '2808', '2820', '2822', '2824', '2826', '2828', '2840', '2842', '2844', '2846', '2848', '2860', '2862', '2864', '2866', '2868', '2880', '2882', '2884', '2886', '2888']\n"
     ]
    }
   ],
   "source": [
    "a  = list(range(1000,3000))\n",
    "a = [str(i) for i in a]\n",
    "a\n",
    "ans=[]\n",
    "for i in a :\n",
    "    k=0\n",
    "    for j in range(len(i)):\n",
    "        #print(i)\n",
    "        #print(type(i))\n",
    "        #print(j)\n",
    "        #print(type(j))\n",
    "        if int(i[j])%2==0:\n",
    "            #print(\"ok\")\n",
    "            k = k+1\n",
    "    if k==len(i):\n",
    "        ans.append(i)\n",
    "print(ans)\n",
    "    "
   ]
  },
  {
   "cell_type": "raw",
   "metadata": {},
   "source": [
    "13. Write a program that accepts a sentence and calculate the number of letters and digits.\n",
    "Suppose the input is supplied to the program: hello world! 123\n",
    "Then, the output should be: LETTERS 10\n",
    "DIGITS 3\n",
    "Hints: In case of input data being supplied to the question, it should be assumed to be a console input."
   ]
  },
  {
   "cell_type": "code",
   "execution_count": 41,
   "metadata": {},
   "outputs": [
    {
     "name": "stdout",
     "output_type": "stream",
     "text": [
      "please enter sendtece to calculate the number of digits and lettershello world! 123\n",
      "integers 3\n",
      "strings 11\n",
      "spaces 2\n"
     ]
    }
   ],
   "source": [
    "se = input(\"please enter sendtece to calculate the number of digits and letters\")\n",
    "k=0\n",
    "st=0\n",
    "sp=0\n",
    "\n",
    "for i in se :\n",
    "    #print(i)\n",
    "    if i.isdigit():\n",
    "        k=k+1\n",
    "    elif i ==\" \":\n",
    "        st=st+1\n",
    "    else :\n",
    "        sp = sp+1\n",
    "        \n",
    "print(\"integers\",i)\n",
    "print(\"strings\",sp)\n",
    "print(\"spaces\",st)\n"
   ]
  },
  {
   "cell_type": "raw",
   "metadata": {},
   "source": [
    "14. Write a program that accepts a sentence and calculate the number of upper case letters and lower case letters.\n",
    "Suppose the input is supplied to the program: Hello world!\n",
    "Then, the output should be: UPPER CASE 1\n",
    "LOWER CASE 9\n",
    "Hints: In case of input data being supplied to the question, it should be assumed to be a console input."
   ]
  },
  {
   "cell_type": "code",
   "execution_count": 46,
   "metadata": {},
   "outputs": [
    {
     "name": "stdout",
     "output_type": "stream",
     "text": [
      "please enter sendtece to calculate the number of digits and lettersHello world!\n",
      "number of upper case 1\n",
      "number of lowercae 9\n"
     ]
    }
   ],
   "source": [
    "se = input(\"please enter sendtece to calculate the number of digits and letters\")\n",
    "up = 0\n",
    "lo = 0\n",
    "for i in se :\n",
    "    if i.isupper():\n",
    "        up= up+1\n",
    "    elif i.islower():\n",
    "        lo = lo+1\n",
    "print(\"number of upper case\",up)\n",
    "print(\"number of lowercae\",lo)\n"
   ]
  },
  {
   "cell_type": "raw",
   "metadata": {},
   "source": [
    "16. Use a list comprehension to square each odd number in a list. The list is input by a sequence of comma-separated numbers.\n",
    "Suppose the input is supplied to the program: 1,2,3,4,5,6,7,8,9\n",
    "Then, the output should be: 1, 3, 5, 7, 9\n",
    "Hints: In case of input data being supplied to the question, it should be assumed to be a console input."
   ]
  },
  {
   "cell_type": "code",
   "execution_count": 17,
   "metadata": {},
   "outputs": [
    {
     "name": "stdout",
     "output_type": "stream",
     "text": [
      "plase enter the number you want odd squre number1,2,3,4,5,6,7,8,9\n",
      "[1, 9, 25, 49, 81]\n"
     ]
    }
   ],
   "source": [
    "d = input(\"plase enter the number you want odd squre number\").split(\",\")\n",
    "x = 0\n",
    "ans=[]\n",
    "for i in range(len(d)):\n",
    "    if i%2==0:\n",
    "        #c=int(d[i]**2)\n",
    "        ans.append(int(d[i])**2)\n",
    "    \n",
    "print(ans)"
   ]
  },
  {
   "cell_type": "raw",
   "metadata": {},
   "source": [
    "17. Write a program that computes the net amount of a bank account based a transaction log from console input. The transaction log format is shown as following:\n",
    "D 100\n",
    "W 200\n",
    "--D means deposit while W means withdrawal.\n",
    "Suppose the input is supplied to the program:\n",
    "D 300\n",
    "D 300\n",
    "W 200\n",
    "D 100\n",
    "Then, the output should be: 500\n",
    "Hints: In case of input data being supplied to the question, it should be assumed to be a console input."
   ]
  },
  {
   "cell_type": "code",
   "execution_count": null,
   "metadata": {},
   "outputs": [
    {
     "name": "stdout",
     "output_type": "stream",
     "text": [
      "please enter the amount you have in bank600\n",
      "please enter you want to deposit of withdrawn w/dw\n",
      "enter amount how much you want to withdraw600\n",
      "Current balance 0\n",
      "please enter you want to deposit of withdrawn w/d400\n",
      "please enter proper input\n",
      "Current balance 0\n",
      "please enter you want to deposit of withdrawn w/dd\n",
      "enter amount how much you want to deposit900\n",
      "Current balance 900\n",
      "please enter you want to deposit of withdrawn w/df\n",
      "please enter proper input\n",
      "Current balance 900\n"
     ]
    }
   ],
   "source": [
    "sum = int(input(\"please enter the amount you have in bank\"))\n",
    "sum\n",
    "d=0\n",
    "w=0\n",
    "'''while :\n",
    "    print(\"please enter trascation is withdrwn(W)or Deposit press w/d\")'''\n",
    "\n",
    "for i in range(0,100):\n",
    "    n = input(\"please enter you want to deposit of withdrawn w/d\")\n",
    "    if n==\"w\":\n",
    "        w = int(input(\"enter amount how much you want to withdraw\"))\n",
    "        sum = sum-w\n",
    "        print(\"Current balance\",sum)\n",
    "        i=i+1\n",
    "    elif n==\"d\":\n",
    "        d = int(input(\"enter amount how much you want to deposit\"))\n",
    "        sum = sum+d\n",
    "        print(\"Current balance\",sum)\n",
    "        i=i+1 \n",
    "    elif n==\"c\":\n",
    "        print(\"if you want to exit press c\")\n",
    "        print(\"Current balance\",sum)\n",
    "    else :\n",
    "        print(\"please enter proper input\")\n",
    "        print(\"Current balance\",sum)\n",
    "        \n",
    "    \n",
    "    \n",
    "\n"
   ]
  },
  {
   "cell_type": "raw",
   "metadata": {},
   "source": [
    "18. A website requires the users to input username and password to register. Write a program to check the validity of password input by users.\n",
    "Following are the criteria for checking the password:\n",
    "1. At least 1 letter between [a-z]\n",
    "2. At least 1 number between [0-9]\n",
    "1. At least 1 letter between [A-Z]\n",
    "3. At least 1 character from [$#@]\n",
    "4. Minimum length of transaction password: 6\n",
    "5. Maximum length of transaction password: 12\n",
    "Your program should accept a sequence of comma separated passwords and will check them according to the above criteria. Passwords that match the criteria are to be printed, each separated by a comma.\n",
    "If the following passwords are given as input to the program: ABd1234@1,a F1#,2w3E*,2We3345\n",
    "Then, the output of the program should be: ABd1234@1\n",
    "Hints: In case of input data being supplied to the question, it should be assumed to be a console input."
   ]
  },
  {
   "cell_type": "code",
   "execution_count": 10,
   "metadata": {},
   "outputs": [
    {
     "name": "stdout",
     "output_type": "stream",
     "text": [
      "please enter password to validateABd1234@1,a F1#,2w3E*,2We3345\n",
      "ABd1234@1\n",
      "check spec\n",
      "a F1#\n",
      "check spec\n",
      "2w3E*\n",
      "check spec\n",
      "2We3345\n",
      "check spec\n",
      "0 0 0 0\n"
     ]
    }
   ],
   "source": [
    "pas = input(\"please enter password to validate\").split(\",\")\n",
    "\n",
    "al=0\n",
    "nu =0\n",
    "up=0\n",
    "sc=0\n",
    "spec =['$','#','@']\n",
    "for k in range(len(pas)):\n",
    "    i=pas[k]\n",
    "    print(i)\n",
    "    if i.islower():\n",
    "        print(\"low\",i)\n",
    "        al=+1\n",
    "    elif i.isnumeric():\n",
    "        nu=+1\n",
    "    elif i.isupper():\n",
    "        up=+1\n",
    "    else:\n",
    "        print(\"check spec\")\n",
    "        \n",
    "\n",
    "print(al,nu,up,sc)\n"
   ]
  },
  {
   "cell_type": "code",
   "execution_count": 1,
   "metadata": {},
   "outputs": [
    {
     "ename": "SyntaxError",
     "evalue": "invalid syntax (<ipython-input-1-beb4a25c0248>, line 1)",
     "output_type": "error",
     "traceback": [
      "\u001b[1;36m  File \u001b[1;32m\"<ipython-input-1-beb4a25c0248>\"\u001b[1;36m, line \u001b[1;32m1\u001b[0m\n\u001b[1;33m    while:\u001b[0m\n\u001b[1;37m         ^\u001b[0m\n\u001b[1;31mSyntaxError\u001b[0m\u001b[1;31m:\u001b[0m invalid syntax\n"
     ]
    }
   ],
   "source": [
    "while i=="
   ]
  },
  {
   "cell_type": "code",
   "execution_count": 2,
   "metadata": {},
   "outputs": [
    {
     "name": "stdout",
     "output_type": "stream",
     "text": [
      "Please enter 'hello':h\n",
      "Please enter 'hello':f\n",
      "Please enter 'hello':f\n",
      "Please enter 'hello':f\n",
      "Please enter 'hello':f\n",
      "Please enter 'hello':f\n",
      "Please enter 'hello':f\n",
      "Please enter 'hello':f\n",
      "Please enter 'hello':hello\n"
     ]
    }
   ],
   "source": [
    "while True:\n",
    "    n = input(\"Please enter 'hello':\")\n",
    "    if n == 'hello':\n",
    "        break"
   ]
  },
  {
   "cell_type": "code",
   "execution_count": null,
   "metadata": {},
   "outputs": [],
   "source": []
  },
  {
   "cell_type": "raw",
   "metadata": {},
   "source": [
    "19. You are required to write a program to sort the (name, age, height) tuples by ascending order where name is string, age and height are numbers. The tuples are input by console. The sort criteria is:\n",
    "1: Sort based on name;\n",
    "2: Then sort based on age;\n",
    "3: Then sort by score.\n",
    "The priority is that name > age > score.\n",
    "If the following tuples are given as input to the program:\n",
    "Tom,19,80\n",
    "John,20,90\n",
    "Jony,17,91\n",
    "Jony,17,93\n",
    "Json,21,85\n",
    "Then, the output of the program should be:\n",
    "[('John', '20', '90'), ('Jony', '17', '91'), ('Jony', '17', '93'), ('Json', '21', '85'), ('Tom', '19', '80')]\n",
    "Hints: In case of input data being supplied to the question, it should be assumed to be a console input. We use itemgetter to enable multiple sort keys."
   ]
  },
  {
   "cell_type": "raw",
   "metadata": {},
   "source": [
    "20. Define a class with a generator which can iterate the numbers, which are divisible by 7, between a given range 0 and n.\n",
    "Hints: Consider use yield"
   ]
  },
  {
   "cell_type": "raw",
   "metadata": {},
   "source": [
    "21. A robot moves in a plane starting from the original point (0,0). The robot can move toward UP, DOWN, LEFT and RIGHT with a given steps. The trace of robot movement is shown as the following:\n",
    "UP 5\n",
    "DOWN 3\n",
    "LEFT 3\n",
    "RIGHT 2\n",
    "¡\n",
    "The numbers after the direction are steps. Please write a program to compute the distance from current position after a sequence of movement and original point. If the distance is a float, then just print the nearest integer.\n",
    "If the following tuples are given as input to the program:\n",
    "UP 5\n",
    "DOWN 3\n",
    "LEFT 3\n",
    "RIGHT 2\n",
    "Then, the output of the program should be: 2\n",
    "Hints: In case of input data being supplied to the question, it should be assumed to be a console input."
   ]
  },
  {
   "cell_type": "code",
   "execution_count": null,
   "metadata": {},
   "outputs": [],
   "source": []
  },
  {
   "cell_type": "code",
   "execution_count": null,
   "metadata": {},
   "outputs": [],
   "source": []
  },
  {
   "cell_type": "code",
   "execution_count": null,
   "metadata": {},
   "outputs": [],
   "source": []
  },
  {
   "cell_type": "code",
   "execution_count": null,
   "metadata": {},
   "outputs": [],
   "source": []
  },
  {
   "cell_type": "code",
   "execution_count": null,
   "metadata": {},
   "outputs": [],
   "source": []
  },
  {
   "cell_type": "code",
   "execution_count": null,
   "metadata": {},
   "outputs": [],
   "source": []
  },
  {
   "cell_type": "code",
   "execution_count": null,
   "metadata": {},
   "outputs": [],
   "source": []
  },
  {
   "cell_type": "code",
   "execution_count": null,
   "metadata": {},
   "outputs": [],
   "source": []
  },
  {
   "cell_type": "code",
   "execution_count": null,
   "metadata": {},
   "outputs": [],
   "source": []
  },
  {
   "cell_type": "code",
   "execution_count": null,
   "metadata": {},
   "outputs": [],
   "source": []
  },
  {
   "cell_type": "code",
   "execution_count": null,
   "metadata": {},
   "outputs": [],
   "source": []
  },
  {
   "cell_type": "code",
   "execution_count": null,
   "metadata": {},
   "outputs": [],
   "source": []
  },
  {
   "cell_type": "code",
   "execution_count": null,
   "metadata": {},
   "outputs": [],
   "source": []
  },
  {
   "cell_type": "code",
   "execution_count": null,
   "metadata": {},
   "outputs": [],
   "source": []
  }
 ],
 "metadata": {
  "kernelspec": {
   "display_name": "Python 3",
   "language": "python",
   "name": "python3"
  },
  "language_info": {
   "codemirror_mode": {
    "name": "ipython",
    "version": 3
   },
   "file_extension": ".py",
   "mimetype": "text/x-python",
   "name": "python",
   "nbconvert_exporter": "python",
   "pygments_lexer": "ipython3",
   "version": "3.6.4"
  }
 },
 "nbformat": 4,
 "nbformat_minor": 2
}
